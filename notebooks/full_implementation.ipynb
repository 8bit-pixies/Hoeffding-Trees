{
 "cells": [
  {
   "cell_type": "code",
   "execution_count": 28,
   "metadata": {},
   "outputs": [],
   "source": [
    "import numpy as np\n",
    "from mlxtend.plotting import plot_decision_regions\n",
    "import matplotlib.pyplot as plt\n",
    "from sklearn import datasets\n",
    "from sklearn.svm import SVC\n",
    "from sklearn.naive_bayes import GaussianNB\n",
    "from sklearn.base import ClassifierMixin\n",
    "from scipy.sparse import coo_matrix\n",
    "\n",
    "xx, yy = np.meshgrid(np.linspace(-3, 3, 50),\n",
    "                     np.linspace(-3, 3, 50))\n",
    "rng = np.random.RandomState(0)\n",
    "X = rng.randn(300, 2)\n",
    "y = np.array(np.logical_xor(X[:, 0] > 0, X[:, 1] > 0), \n",
    "             dtype=int)\n",
    "\n",
    "\n",
    "def generate_sample(n=10):\n",
    "    X = rng.randn(n, 2)\n",
    "    y = np.array(np.logical_xor(X[:, 0] > 0, X[:, 1] > 0), \n",
    "             dtype=int)\n",
    "    return X, y"
   ]
  },
  {
   "cell_type": "code",
   "execution_count": 29,
   "metadata": {},
   "outputs": [],
   "source": [
    "%matplotlib inline"
   ]
  },
  {
   "cell_type": "code",
   "execution_count": 30,
   "metadata": {},
   "outputs": [],
   "source": [
    "class DecisionNode(ClassifierMixin):\n",
    "    def __init__(self, delta=0.05, min_seen=100):\n",
    "        self.proposal_scores = None\n",
    "        self.n_seen = 0 \n",
    "        self.delta = delta\n",
    "        self.min_seen = min_seen\n",
    "        self.base_node = GaussianNB()\n",
    "        self.proposal_scores = None\n",
    "        self.n_seen = 0\n",
    "        self.feat = None\n",
    "        self.val = None\n",
    "        self.impurity = None\n",
    "        self.is_split = False\n",
    "        self.left = None\n",
    "        self.right = None\n",
    "\n",
    "    def fit(self, X, y):\n",
    "        self.proposal_scores = None\n",
    "        self.n_seen = 0\n",
    "        self.feat = None\n",
    "        self.val = None\n",
    "        self.impurity = None\n",
    "        self.is_split = False\n",
    "        return self.partial_fit(X, y)\n",
    "    \n",
    "    def hoeffding_bound(self, n):\n",
    "        return np.sqrt(0.25 * np.log(1 / self.delta) / (2 * n))\n",
    "    \n",
    "    def split_dataset(self, X, y):\n",
    "        #print(X, y)\n",
    "        if self.is_split:\n",
    "            y_indx = X[:, self.feat] < self.val\n",
    "            return [\n",
    "                (X[y_indx, :], y[y_indx]),\n",
    "                (X[~y_indx, :], y[~y_indx])\n",
    "            ]\n",
    "        else:\n",
    "            return None\n",
    "        \n",
    "    \n",
    "    def partial_fit(self, X, y):\n",
    "        if self.n_seen == 0:\n",
    "            self.base_node.fit(X, y)\n",
    "        else:\n",
    "            self.base_node.partial_fit(X, y)\n",
    "            \n",
    "        self.n_seen += X.shape[0]\n",
    "        \n",
    "        proposed_splits = np.mean(self.base_node.theta_, 0)\n",
    "        if self.proposal_scores is None:\n",
    "            self.proposal_scores = np.zeros(X.shape[1])\n",
    "        for feat_idx in range(X.shape[1]):\n",
    "            y_indx = X[:, feat_idx] < proposed_splits[feat_idx]\n",
    "            self.proposal_scores[feat_idx] += np.sum(y[y_indx])\n",
    "            \n",
    "        impurity = [\n",
    "            2 * (x / self.n_seen) * (1 - x / self.n_seen) for x in self.proposal_scores\n",
    "        ]  # this isn't 100% correct, I'm just lazy...\n",
    "        \n",
    "        vals = sorted(impurity.copy())[:2]\n",
    "        is_split = False\n",
    "        split_info = None\n",
    "        if not self.is_split and np.abs(vals[0] - vals[1]) < self.hoeffding_bound(self.n_seen) and self.n_seen >= self.min_seen:\n",
    "            # create a sub node, just hardcode, and leave as an exercise \n",
    "            # for someone to have a dynamic programming solution\n",
    "            self.is_split = True\n",
    "            self.feat = np.argmin(impurity)\n",
    "            self.val = proposed_splits[self.feat]\n",
    "            y_indx = X[:, self.feat] < proposed_splits[self.feat]\n",
    "        elif self.is_split:\n",
    "            self.val = proposed_splits[self.feat]\n",
    "        return self\n",
    "    \n",
    "    def predict(self, X):\n",
    "        return self.base_node.predict(X)\n"
   ]
  },
  {
   "cell_type": "code",
   "execution_count": 31,
   "metadata": {},
   "outputs": [],
   "source": [
    "class VFDT(ClassifierMixin):\n",
    "    def __init__(self, **kwargs):\n",
    "        self.kwargs = kwargs\n",
    "        self.root = DecisionNode(**kwargs)\n",
    "        \n",
    "   \n",
    "    def fit(self, X, y):\n",
    "        return self.partial_fit(X, y)\n",
    "    \n",
    "    def partial_fit_(self, node, X, y):\n",
    "        node = node.partial_fit(X, y)\n",
    "        if node.is_split and node.left is None and node.right is None:\n",
    "            node.left = DecisionNode(**self.kwargs)\n",
    "            node.right = DecisionNode(**self.kwargs)\n",
    "            left_data, right_data = node.split_dataset(X, y)\n",
    "            node.left = self.partial_fit_(node.left, *left_data)\n",
    "            node.right = self.partial_fit_(node.right, *right_data)\n",
    "        elif node.is_split:\n",
    "            left_data, right_data = node.split_dataset(X, y)\n",
    "            node.left = self.partial_fit_(node.left, *left_data)\n",
    "            node.right = self.partial_fit_(node.right, *right_data)\n",
    "            \n",
    "        return node\n",
    "    \n",
    "    def partial_fit(self, X, y):\n",
    "        self.root = self.partial_fit_(self.root, X, y)\n",
    "        return self\n",
    "    \n",
    "    def predict_(self, node, X, indx):\n",
    "        if node.is_split:\n",
    "            left_data, right_data = node.split_dataset(X, indx)\n",
    "            pred_left = self.predict_(node.left, *left_data)\n",
    "            pred_right = self.predict_(node.right, *right_data)\n",
    "            return [pred_left, pred_right]\n",
    "        else:\n",
    "            return (node.predict(X), indx)\n",
    "    \n",
    "    def predict(self, X):\n",
    "        pred = self.predict_(self.root, X, np.arange(X.shape[0]))\n",
    "        if type(pred) is tuple:\n",
    "            return pred[0]\n",
    "        return self.convert_to_array(pred, X).flatten()\n",
    "    \n",
    "    def convert_to_array(self, pred, X):\n",
    "        row = []\n",
    "        col = []\n",
    "        data = []\n",
    "        for p in pred:\n",
    "            row.extend(p[1])\n",
    "            data.extend(p[0])\n",
    "            col.extend(p[0]*0)\n",
    "        return coo_matrix((data, (row, col)), shape=(X.shape[0], 1)).toarray()\n"
   ]
  },
  {
   "cell_type": "code",
   "execution_count": 32,
   "metadata": {},
   "outputs": [],
   "source": [
    "vfdt = VFDT()"
   ]
  },
  {
   "cell_type": "code",
   "execution_count": 33,
   "metadata": {},
   "outputs": [],
   "source": [
    "X1, y1 = generate_sample()\n",
    "vfdt.fit(X1, y1)\n",
    "\n",
    "   \n",
    "for _ in range(100):\n",
    "    X1, y1 = generate_sample(100)\n",
    "    vfdt.partial_fit(X1, y1)"
   ]
  },
  {
   "cell_type": "code",
   "execution_count": 34,
   "metadata": {},
   "outputs": [
    {
     "data": {
      "image/png": "[encoded data removed]",
      "text/plain": [
       "<Figure size 432x288 with 1 Axes>"
      ]
     },
     "metadata": {
      "needs_background": "light"
     },
     "output_type": "display_data"
    }
   ],
   "source": [
    "fig = plot_decision_regions(X=X, y=y, clf=vfdt, legend=2)"
   ]
  }
 ],
 "metadata": {
  "kernelspec": {
   "display_name": "Python 3",
   "language": "python",
   "name": "python3"
  },
  "language_info": {
   "codemirror_mode": {
    "name": "ipython",
    "version": 3
   },
   "file_extension": ".py",
   "mimetype": "text/x-python",
   "name": "python",
   "nbconvert_exporter": "python",
   "pygments_lexer": "ipython3",
   "version": "3.7.3"
  }
 },
 "nbformat": 4,
 "nbformat_minor": 4
}
